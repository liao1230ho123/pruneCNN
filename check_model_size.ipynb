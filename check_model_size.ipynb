{
 "cells": [
  {
   "cell_type": "code",
   "execution_count": 1,
   "metadata": {},
   "outputs": [],
   "source": [
    "import torch\n",
    "from torch.autograd import Variable\n",
    "from torchvision import models\n",
    "import cv2\n",
    "import sys\n",
    "import numpy as np\n",
    "import torchvision\n",
    "import torch.nn as nn\n",
    "import torch.nn.functional as F\n",
    "import torch.optim as optim\n",
    "import dataset\n",
    "from prune import *\n",
    "from torchsummary import summary\n",
    "import argparse\n",
    "from operator import itemgetter\n",
    "from heapq import nsmallest\n",
    "import time"
   ]
  },
  {
   "cell_type": "code",
   "execution_count": 4,
   "metadata": {
    "scrolled": true
   },
   "outputs": [
    {
     "data": {
      "text/plain": [
       "ModifiedVGG16Model(\n",
       "  (classifier): Sequential(\n",
       "    (0): Dropout(p=0.5)\n",
       "    (1): Linear(in_features=5439, out_features=4096, bias=True)\n",
       "    (2): ReLU(inplace)\n",
       "    (3): Dropout(p=0.5)\n",
       "    (4): Linear(in_features=4096, out_features=4096, bias=True)\n",
       "    (5): ReLU(inplace)\n",
       "    (6): Linear(in_features=4096, out_features=2, bias=True)\n",
       "  )\n",
       "  (features): Sequential(\n",
       "    (0): Conv2d(3, 47, kernel_size=(3, 3), stride=(1, 1), padding=(1, 1))\n",
       "    (1): ReLU(inplace)\n",
       "    (2): Conv2d(47, 52, kernel_size=(3, 3), stride=(1, 1), padding=(1, 1))\n",
       "    (3): ReLU(inplace)\n",
       "    (4): MaxPool2d(kernel_size=2, stride=2, padding=0, dilation=1, ceil_mode=False)\n",
       "    (5): Conv2d(52, 101, kernel_size=(3, 3), stride=(1, 1), padding=(1, 1))\n",
       "    (6): ReLU(inplace)\n",
       "    (7): Conv2d(101, 102, kernel_size=(3, 3), stride=(1, 1), padding=(1, 1))\n",
       "    (8): ReLU(inplace)\n",
       "    (9): MaxPool2d(kernel_size=2, stride=2, padding=0, dilation=1, ceil_mode=False)\n",
       "    (10): Conv2d(102, 184, kernel_size=(3, 3), stride=(1, 1), padding=(1, 1))\n",
       "    (11): ReLU(inplace)\n",
       "    (12): Conv2d(184, 177, kernel_size=(3, 3), stride=(1, 1), padding=(1, 1))\n",
       "    (13): ReLU(inplace)\n",
       "    (14): Conv2d(177, 178, kernel_size=(3, 3), stride=(1, 1), padding=(1, 1))\n",
       "    (15): ReLU(inplace)\n",
       "    (16): MaxPool2d(kernel_size=2, stride=2, padding=0, dilation=1, ceil_mode=False)\n",
       "    (17): Conv2d(178, 271, kernel_size=(3, 3), stride=(1, 1), padding=(1, 1))\n",
       "    (18): ReLU(inplace)\n",
       "    (19): Conv2d(271, 296, kernel_size=(3, 3), stride=(1, 1), padding=(1, 1))\n",
       "    (20): ReLU(inplace)\n",
       "    (21): Conv2d(296, 264, kernel_size=(3, 3), stride=(1, 1), padding=(1, 1))\n",
       "    (22): ReLU(inplace)\n",
       "    (23): MaxPool2d(kernel_size=2, stride=2, padding=0, dilation=1, ceil_mode=False)\n",
       "    (24): Conv2d(264, 200, kernel_size=(3, 3), stride=(1, 1), padding=(1, 1))\n",
       "    (25): ReLU(inplace)\n",
       "    (26): Conv2d(200, 193, kernel_size=(3, 3), stride=(1, 1), padding=(1, 1))\n",
       "    (27): ReLU(inplace)\n",
       "    (28): Conv2d(193, 111, kernel_size=(3, 3), stride=(1, 1), padding=(1, 1))\n",
       "    (29): ReLU(inplace)\n",
       "    (30): MaxPool2d(kernel_size=2, stride=2, padding=0, dilation=1, ceil_mode=False)\n",
       "  )\n",
       ")"
      ]
     },
     "execution_count": 4,
     "metadata": {},
     "output_type": "execute_result"
    }
   ],
   "source": [
    "class ModifiedVGG16Model(torch.nn.Module):\n",
    "    def __init__(self):\n",
    "        super(ModifiedVGG16Model, self).__init__()\n",
    "\n",
    "        model = models.vgg16(pretrained=True)\n",
    "        self.features = model.features\n",
    "\n",
    "        for param in self.features.parameters():\n",
    "            param.requires_grad = False\n",
    "\n",
    "        self.classifier = nn.Sequential(\n",
    "            nn.Dropout(),\n",
    "            nn.Linear(25088, 4096),\n",
    "            nn.ReLU(inplace=True),\n",
    "            nn.Dropout(),\n",
    "            nn.Linear(4096, 4096),\n",
    "            nn.ReLU(inplace=True),\n",
    "            nn.Linear(4096, 2))\n",
    "\n",
    "    def forward(self, x):\n",
    "        x = self.features(x)\n",
    "        x = x.view(x.size(0), -1)\n",
    "        x = self.classifier(x)\n",
    "        return x\n",
    "model = torch.load(\"model_prunned_half_256.pkl\")\n",
    "model.cuda()"
   ]
  },
  {
   "cell_type": "code",
   "execution_count": 5,
   "metadata": {
    "scrolled": true
   },
   "outputs": [
    {
     "name": "stdout",
     "output_type": "stream",
     "text": [
      "----------------------------------------------------------------\n",
      "        Layer (type)               Output Shape         Param #\n",
      "================================================================\n",
      "            Conv2d-1         [-1, 47, 224, 224]           1,316\n",
      "              ReLU-2         [-1, 47, 224, 224]               0\n",
      "            Conv2d-3         [-1, 52, 224, 224]          22,048\n",
      "              ReLU-4         [-1, 52, 224, 224]               0\n",
      "         MaxPool2d-5         [-1, 52, 112, 112]               0\n",
      "            Conv2d-6        [-1, 101, 112, 112]          47,369\n",
      "              ReLU-7        [-1, 101, 112, 112]               0\n",
      "            Conv2d-8        [-1, 102, 112, 112]          92,820\n",
      "              ReLU-9        [-1, 102, 112, 112]               0\n",
      "        MaxPool2d-10          [-1, 102, 56, 56]               0\n",
      "           Conv2d-11          [-1, 184, 56, 56]         169,096\n",
      "             ReLU-12          [-1, 184, 56, 56]               0\n",
      "           Conv2d-13          [-1, 177, 56, 56]         293,289\n",
      "             ReLU-14          [-1, 177, 56, 56]               0\n",
      "           Conv2d-15          [-1, 178, 56, 56]         283,732\n",
      "             ReLU-16          [-1, 178, 56, 56]               0\n",
      "        MaxPool2d-17          [-1, 178, 28, 28]               0\n",
      "           Conv2d-18          [-1, 271, 28, 28]         434,413\n",
      "             ReLU-19          [-1, 271, 28, 28]               0\n",
      "           Conv2d-20          [-1, 296, 28, 28]         722,240\n",
      "             ReLU-21          [-1, 296, 28, 28]               0\n",
      "           Conv2d-22          [-1, 264, 28, 28]         703,560\n",
      "             ReLU-23          [-1, 264, 28, 28]               0\n",
      "        MaxPool2d-24          [-1, 264, 14, 14]               0\n",
      "           Conv2d-25          [-1, 200, 14, 14]         475,400\n",
      "             ReLU-26          [-1, 200, 14, 14]               0\n",
      "           Conv2d-27          [-1, 193, 14, 14]         347,593\n",
      "             ReLU-28          [-1, 193, 14, 14]               0\n",
      "           Conv2d-29          [-1, 111, 14, 14]         192,918\n",
      "             ReLU-30          [-1, 111, 14, 14]               0\n",
      "        MaxPool2d-31            [-1, 111, 7, 7]               0\n",
      "          Dropout-32                 [-1, 5439]               0\n",
      "           Linear-33                 [-1, 4096]      22,282,240\n",
      "             ReLU-34                 [-1, 4096]               0\n",
      "          Dropout-35                 [-1, 4096]               0\n",
      "           Linear-36                 [-1, 4096]      16,781,312\n",
      "             ReLU-37                 [-1, 4096]               0\n",
      "           Linear-38                    [-1, 2]           8,194\n",
      "================================================================\n",
      "Total params: 42,857,540\n",
      "Trainable params: 42,857,540\n",
      "Non-trainable params: 0\n",
      "----------------------------------------------------------------\n",
      "Input size (MB): 0.57\n",
      "Forward/backward pass size (MB): 161.01\n",
      "Params size (MB): 163.49\n",
      "Estimated Total Size (MB): 325.07\n",
      "----------------------------------------------------------------\n"
     ]
    }
   ],
   "source": [
    "summary(model,(3, 224, 224))"
   ]
  },
  {
   "cell_type": "code",
   "execution_count": null,
   "metadata": {},
   "outputs": [],
   "source": []
  }
 ],
 "metadata": {
  "kernelspec": {
   "display_name": "Python 3",
   "language": "python",
   "name": "python3"
  },
  "language_info": {
   "codemirror_mode": {
    "name": "ipython",
    "version": 3
   },
   "file_extension": ".py",
   "mimetype": "text/x-python",
   "name": "python",
   "nbconvert_exporter": "python",
   "pygments_lexer": "ipython3",
   "version": "3.7.4"
  }
 },
 "nbformat": 4,
 "nbformat_minor": 2
}
